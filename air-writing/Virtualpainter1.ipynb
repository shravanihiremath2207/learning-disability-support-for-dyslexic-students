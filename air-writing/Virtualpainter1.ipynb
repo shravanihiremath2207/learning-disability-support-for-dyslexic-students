{
 "cells": [
  {
   "cell_type": "code",
   "execution_count": 1,
   "id": "fdac333d",
   "metadata": {},
   "outputs": [
    {
     "name": "stdout",
     "output_type": "stream",
     "text": [
      "Requirement already satisfied: keyboard in c:\\users\\anuka\\anaconda3\\lib\\site-packages (0.13.5)\n",
      "Requirement already satisfied: pygame in c:\\users\\anuka\\anaconda3\\lib\\site-packages (2.3.0)\n"
     ]
    }
   ],
   "source": [
    "!pip install keyboard\n",
    "!pip install pygame"
   ]
  },
  {
   "cell_type": "code",
   "execution_count": 2,
   "id": "072d9ce0",
   "metadata": {},
   "outputs": [
    {
     "name": "stdout",
     "output_type": "stream",
     "text": [
      "pygame 2.3.0 (SDL 2.24.2, Python 3.8.8)\n",
      "Hello from the pygame community. https://www.pygame.org/contribute.html\n"
     ]
    }
   ],
   "source": [
    "import cv2\n",
    "import numpy as np\n",
    "import os\n",
    "import HandTrackingModule as htm\n",
    "from flask import Blueprint, render_template\n",
    "from tensorflow.keras.models import load_model\n",
    "import keyboard\n",
    "import pygame\n",
    "import time"
   ]
  },
  {
   "cell_type": "code",
   "execution_count": 3,
   "id": "bc9714f3",
   "metadata": {},
   "outputs": [],
   "source": [
    "VirtualPainter = Blueprint(\"HandTrackingModule\", __name__, static_folder=\"static\",template_folder=\"templates\")"
   ]
  },
  {
   "cell_type": "code",
   "execution_count": 4,
   "id": "9eda02ab",
   "metadata": {},
   "outputs": [],
   "source": [
    "@VirtualPainter.route(\"/feature\")\n",
    "def strt():\n",
    "    ############## Color Attributes ###############\n",
    "    WHITE = (255, 255, 255)\n",
    "    BLACK = (0,0,0)\n",
    "    RED = (0,0,255)\n",
    "    YELLOW = (0,255,255)\n",
    "    GREEN = (0,255,0)\n",
    "    BACKGROUND = (255,255,255)\n",
    "    FORGROUND = (0,255,0)\n",
    "    BORDER = (0,255,0)\n",
    "    lastdrawColor = (0,0,1)\n",
    "    drawColor = (0,0,255)\n",
    "    BOUNDRYINC = 5\n"
   ]
  },
  {
   "cell_type": "code",
   "execution_count": 5,
   "id": "25939782",
   "metadata": {},
   "outputs": [],
   "source": [
    "############## CV2 Attributes ###############\n",
    "cap = cv2.VideoCapture(0)\n",
    "width, height = 1280, 720\n",
    "cap.set(3, width)          #640, 1280\n",
    "cap.set(4, height)         #480, 720\n",
    "imgCanvas = np.zeros((height,width,3), np.uint8)\n"
   ]
  },
  {
   "cell_type": "code",
   "execution_count": 6,
   "id": "2831a1f1",
   "metadata": {},
   "outputs": [],
   "source": [
    "############## PyGame Attributes ###############\n",
    "pygame.init()\n",
    "FONT = pygame.font.SysFont('freesansbold.tff', 18)\n",
    "DISPLAYSURF = pygame.display.set_mode((width, height),flags=pygame.HIDDEN)\n",
    "pygame.display.set_caption(\"Digit Board\")\n",
    "number_xcord = []\n",
    "number_ycord = []"
   ]
  },
  {
   "cell_type": "code",
   "execution_count": 7,
   "id": "01b13760",
   "metadata": {},
   "outputs": [],
   "source": [
    "############## Header Files Attributes ###############\n",
    "folderPath = \"header\"\n",
    "myList = os.listdir(folderPath)\n",
    "overlayList = []\n",
    "\n",
    "for imPath in myList:\n",
    "    image = cv2.imread(f'{folderPath}/{imPath}')\n",
    "    overlayList.append(image)\n",
    "header = overlayList[0]"
   ]
  },
  {
   "cell_type": "code",
   "execution_count": 8,
   "id": "0a2eedb2",
   "metadata": {},
   "outputs": [],
   "source": [
    "############## Predication Model Attributes ###############\n",
    "label=\"\"\n",
    "PREDICT = \"off\"\n",
    "AlphaMODEL = load_model(\"bModel.h5\")\n",
    "NumMODEL = load_model(\"bestmodel.h5\")\n",
    "AlphaLABELS = { 0: 'a', 1: 'b', 2: 'c', 3: 'd', 4: 'e', 5: 'f', 6: 'g', 7: 'h', 8: 'i', 9: 'j',\n",
    "10: 'k', 11: 'l', 12: 'm', 13: 'n', 14: 'o', 15: 'p', 16: 'q', 17: 'r', 18: 's', 19: 't',\n",
    "20: 'u', 21: 'v', 22: 'w', 23: 'x', 24: 'y', 25: 'z', 26: ''}\n",
    "NumLABELS = {0:'0', 1: '1',\n",
    "2: '2', 3: '3',\n",
    "4: '4', 5: '5',\n",
    "6: '6', 7: '7',\n",
    "8: '8', 9: '9'}\n",
    "rect_min_x, rect_max_x = 0,0\n",
    "rect_min_y, rect_max_y = 0,0"
   ]
  },
  {
   "cell_type": "code",
   "execution_count": 1,
   "id": "54c173fa",
   "metadata": {
    "scrolled": false
   },
   "outputs": [
    {
     "ename": "NameError",
     "evalue": "name 'htm' is not defined",
     "output_type": "error",
     "traceback": [
      "\u001b[1;31m---------------------------------------------------------------------------\u001b[0m",
      "\u001b[1;31mNameError\u001b[0m                                 Traceback (most recent call last)",
      "\u001b[1;32m<ipython-input-1-73cb802902b9>\u001b[0m in \u001b[0;36m<module>\u001b[1;34m\u001b[0m\n\u001b[0;32m      1\u001b[0m \u001b[1;31m############## HandDetection Attributes ###############\u001b[0m\u001b[1;33m\u001b[0m\u001b[1;33m\u001b[0m\u001b[1;33m\u001b[0m\u001b[0m\n\u001b[1;32m----> 2\u001b[1;33m \u001b[0mdetector\u001b[0m \u001b[1;33m=\u001b[0m \u001b[0mhtm\u001b[0m\u001b[1;33m.\u001b[0m\u001b[0mhandDetector\u001b[0m\u001b[1;33m(\u001b[0m\u001b[0mdetectionCon\u001b[0m\u001b[1;33m=\u001b[0m\u001b[1;36m0.85\u001b[0m\u001b[1;33m)\u001b[0m\u001b[1;33m\u001b[0m\u001b[1;33m\u001b[0m\u001b[0m\n\u001b[0m\u001b[0;32m      3\u001b[0m \u001b[0mxp\u001b[0m \u001b[1;33m,\u001b[0m \u001b[0myp\u001b[0m \u001b[1;33m=\u001b[0m \u001b[1;36m0\u001b[0m\u001b[1;33m,\u001b[0m \u001b[1;36m0\u001b[0m\u001b[1;33m\u001b[0m\u001b[1;33m\u001b[0m\u001b[0m\n\u001b[0;32m      4\u001b[0m \u001b[0mbrushThickness\u001b[0m \u001b[1;33m=\u001b[0m \u001b[1;36m15\u001b[0m\u001b[1;33m\u001b[0m\u001b[1;33m\u001b[0m\u001b[0m\n\u001b[0;32m      5\u001b[0m \u001b[0meraserThickness\u001b[0m \u001b[1;33m=\u001b[0m \u001b[1;36m30\u001b[0m\u001b[1;33m\u001b[0m\u001b[1;33m\u001b[0m\u001b[0m\n",
      "\u001b[1;31mNameError\u001b[0m: name 'htm' is not defined"
     ]
    }
   ],
   "source": [
    "############## HandDetection Attributes ###############\n",
    "detector = htm.handDetector(detectionCon=0.85)\n",
    "xp , yp = 0, 0\n",
    "brushThickness = 15\n",
    "eraserThickness = 30\n",
    "modeValue = \"OFF\"\n",
    "modeColor = (0,255,255)\n",
    "\n",
    "while True:\n",
    "    SUCCESS, img = cap.read()\n",
    "    img = cv2.flip(img,1)\n",
    "\n",
    "    img = detector.findHands(img)\n",
    "    lmList = detector.findPosition(img, draw=False)\n",
    "    cv2.putText(img,\"Press A for Alphabate Recognisition Mode \",(0,145),3,0.5,(255,255,0),1,cv2.LINE_AA)\n",
    "    cv2.putText(img,\"Press N for Digit Recognisition Mode \",(0,162),3,0.5,(255,255,0),1,cv2.LINE_AA)\n",
    "    cv2.putText(img,\"Press O for Turn Off Recognisition Mode \",(0,179),3,0.5,(255,255,0),1,cv2.LINE_AA)\n",
    "    cv2.putText(img,f'{\"RECOGNITION IS \"}{modeValue}',(0,196),3,0.5,modeColor,1,cv2.LINE_AA)\n",
    "\n",
    "    if keyboard.is_pressed('a'):\n",
    "        if PREDICT!=\"alpha\":\n",
    "            PREDICT = \"alpha\"\n",
    "            modeValue, modeColor = \"ALPHABETS\", GREEN\n",
    "\n",
    "    if keyboard.is_pressed('n'):\n",
    "        if PREDICT!=\"num\":\n",
    "            PREDICT = \"num\"\n",
    "            modeValue, modeColor = \"NUMBER\", YELLOW\n",
    "\n",
    "    if keyboard.is_pressed('o'):\n",
    "        if PREDICT!=\"off\":\n",
    "            PREDICT = \"off\"\n",
    "            modeValue, modeColor = \"OFF\", RED\n",
    "\n",
    "        xp , yp = 0, 0\n",
    "        label=\"\"\n",
    "        rect_min_x, rect_max_x = 0,0\n",
    "        rect_min_y, rect_max_y = 0,0\n",
    "        number_xcord = []\n",
    "        number_ycord = []\n",
    "        time.sleep(0.5)\n",
    "\n",
    "\n",
    "    if len(lmList)>0:\n",
    "\n",
    "        x1,y1 = lmList[8][1:]\n",
    "        x2,y2 = lmList[12][1:]\n",
    "\n",
    "        fingers = detector.fingersUp()\n",
    "        # print(fingers)\n",
    "\n",
    "        if fingers[1] and fingers[2]:\n",
    "\n",
    "            #add\n",
    "\n",
    "            number_xcord = sorted(number_xcord)\n",
    "            number_ycord = sorted(number_ycord)\n",
    "\n",
    "            if(len(number_xcord) > 0 and len(number_ycord)>0 and PREDICT!=\"off\"):\n",
    "                if drawColor!=(0,0,0) and lastdrawColor != (0,0,0):\n",
    "                    rect_min_x, rect_max_x = max(number_xcord[0]-BOUNDRYINC, 0), min(width, number_xcord[-1]+BOUNDRYINC)\n",
    "                    rect_min_y, rect_max_y = max(0, number_ycord[0]-BOUNDRYINC), min(number_ycord[-1]+BOUNDRYINC, height)\n",
    "                    number_xcord = []\n",
    "                    number_ycord = []\n",
    "\n",
    "                    img_arr = np.array(pygame.PixelArray(DISPLAYSURF))[rect_min_x:rect_max_x,rect_min_y:rect_max_y].T.astype(np.float32) \n",
    "\n",
    "                    cv2.rectangle(imgCanvas,(rect_min_x,rect_min_y),(rect_max_x,rect_max_y),BORDER,3)\n",
    "                    image = cv2.resize(img_arr, (28,28))\n",
    "                    # cv2.imshow(\"Tmp\",image)\n",
    "                    image = np.pad(image, (10,10), 'constant' , constant_values =0)\n",
    "                    image = cv2.resize(image,(28,28))/255\n",
    "                    # cv2.imshow(\"Tmp\",image)\n",
    "\n",
    "                    if PREDICT == \"alpha\":\n",
    "                        label = str(AlphaLABELS[np.argmax(AlphaMODEL.predict(image.reshape(1,28,28,1)))])\n",
    "                    if PREDICT == \"num\":\n",
    "                        label = str(NumLABELS[np.argmax(NumMODEL.predict(image.reshape(1,28,28,1)))])\n",
    "                    pygame.draw.rect(DISPLAYSURF,BLACK,(0,0,width,height))\n",
    "\n",
    "                    cv2.rectangle(imgCanvas,(rect_min_x+50,rect_min_y-20),(rect_min_x,rect_min_y),BACKGROUND,-1)\n",
    "                    cv2.putText(imgCanvas,label,(rect_min_x,rect_min_y-5),3,0.5,FORGROUND,1,cv2.LINE_AA)\n",
    "                else:\n",
    "                    number_xcord = []\n",
    "                    number_ycord = []\n",
    "\n",
    "            xp, yp = 0, 0\n",
    "            if y1<125:\n",
    "                lastdrawColor = drawColor\n",
    "                if 0 < x1 < 200:\n",
    "                    imgCanvas = np.zeros((height,width,3), np.uint8)\n",
    "                elif 210 < x1 < 320:\n",
    "                    header = overlayList[0]\n",
    "                    drawColor = (0,0,255)\n",
    "                elif 370 < x1 < 470:\n",
    "                    header = overlayList[1]\n",
    "                    drawColor = (0,255,255)\n",
    "                elif 520 < x1 < 630:\n",
    "                    header = overlayList[2]\n",
    "                    drawColor = (0,255,0)\n",
    "                elif 680 < x1 < 780:\n",
    "                    header = overlayList[3]\n",
    "                    drawColor = (255,0,0)\n",
    "                elif 890 < x1 < 1100:\n",
    "                    header = overlayList[4]\n",
    "                    drawColor = (0,0,0)\n",
    "                elif 1160 < x1 < 1250:\n",
    "                    cap.release()\n",
    "                    cv2.destroyAllWindows()\n",
    "                    return render_template(\"index.html\")\n",
    "                    quit()\n",
    "\n",
    "            cv2.rectangle(img, (x1,y1-25), (x2,y2+25), drawColor, cv2.FILLED)\n",
    "\n",
    "\n",
    "        elif fingers[1] and fingers[2] == False:\n",
    "\n",
    "            #add\n",
    "            number_xcord.append(x1)\n",
    "            number_ycord.append(y1)\n",
    "            #addEnd\n",
    "\n",
    "\n",
    "            cv2.circle(img, (x1,y1-15), 15, drawColor, cv2.FILLED)\n",
    "            if xp == 0 and yp == 0:\n",
    "                xp, yp = x1, y1\n",
    "\n",
    "            if drawColor == (0, 0, 0):\n",
    "                cv2.line(img, (xp,yp), (x1,y1), drawColor, eraserThickness)\n",
    "                cv2.line(imgCanvas, (xp,yp), (x1,y1), drawColor, eraserThickness)\n",
    "            else:\n",
    "                cv2.line(img, (xp,yp), (x1,y1), drawColor, brushThickness)\n",
    "                cv2.line(imgCanvas, (xp,yp), (x1,y1), drawColor, brushThickness)\n",
    "                pygame.draw.line(DISPLAYSURF, WHITE, (xp,yp), (x1,y1), brushThickness)\n",
    "            xp, yp = x1, y1\n",
    "        else:\n",
    "            xp, yp = 0, 0\n",
    "\n",
    "    imgGray = cv2.cvtColor(imgCanvas, cv2.COLOR_BGR2GRAY)\n",
    "    _, imgInv = cv2.threshold(imgGray, 50, 255, cv2.THRESH_BINARY_INV)\n",
    "    imgInv = cv2.cvtColor(imgInv, cv2.COLOR_GRAY2BGR)\n",
    "    img = cv2.bitwise_and(img, imgInv)\n",
    "    img = cv2.bitwise_or(img, imgCanvas)\n",
    "\n",
    "    img[0:132,0:1280] = header\n",
    "    pygame.display.update()\n",
    "    # cv2.imshow(\"Paint\",imgCanvas)\n",
    "    cv2.imshow(\"Image\",img)\n",
    "    cv2.waitKey(1)\n",
    "\n",
    "strt()"
   ]
  },
  {
   "cell_type": "code",
   "execution_count": null,
   "id": "98aaef83",
   "metadata": {},
   "outputs": [],
   "source": []
  },
  {
   "cell_type": "code",
   "execution_count": null,
   "id": "ac2270ca",
   "metadata": {},
   "outputs": [],
   "source": []
  },
  {
   "cell_type": "code",
   "execution_count": null,
   "id": "b3fb3f88",
   "metadata": {},
   "outputs": [],
   "source": []
  }
 ],
 "metadata": {
  "kernelspec": {
   "display_name": "Python 3",
   "language": "python",
   "name": "python3"
  },
  "language_info": {
   "codemirror_mode": {
    "name": "ipython",
    "version": 3
   },
   "file_extension": ".py",
   "mimetype": "text/x-python",
   "name": "python",
   "nbconvert_exporter": "python",
   "pygments_lexer": "ipython3",
   "version": "3.8.8"
  }
 },
 "nbformat": 4,
 "nbformat_minor": 5
}
